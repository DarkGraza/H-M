{
 "cells": [
  {
   "cell_type": "code",
   "execution_count": 1,
   "id": "247e8f54-07d1-4363-8b06-ceeb3522da3a",
   "metadata": {},
   "outputs": [],
   "source": [
    "import time\n",
    "import re\n",
    "import pandas as pd\n",
    "from selenium import webdriver\n",
    "from selenium.webdriver.common.by import By\n",
    "from selenium.webdriver.support.ui import WebDriverWait\n",
    "from selenium.webdriver.support import expected_conditions as EC\n",
    "from selenium.common.exceptions import NoSuchElementException\n",
    "from selenium.webdriver.common.action_chains import ActionChains"
   ]
  },
  {
   "cell_type": "code",
   "execution_count": 2,
   "id": "27367c6c-0754-40ee-8a7a-4dc84e691681",
   "metadata": {},
   "outputs": [],
   "source": [
    "driver = webdriver.Chrome()"
   ]
  },
  {
   "cell_type": "code",
   "execution_count": 3,
   "id": "58816779-cffd-46a5-acc5-e8dc2fd941df",
   "metadata": {
    "scrolled": true
   },
   "outputs": [],
   "source": [
    "url = 'https://www2.hm.com/'\n",
    "driver.get(url)"
   ]
  },
  {
   "cell_type": "code",
   "execution_count": 4,
   "id": "8e66b57a-dd2c-4045-affa-e2e5d0fbc832",
   "metadata": {
    "scrolled": true
   },
   "outputs": [],
   "source": [
    "cookies = driver.find_element(By.XPATH, '//*[@id=\"onetrust-reject-all-handler\"]')\n",
    "cookies.click()"
   ]
  },
  {
   "cell_type": "code",
   "execution_count": 13,
   "id": "6a8d65d4-b772-43aa-9fc9-2a5ea0dc1601",
   "metadata": {},
   "outputs": [],
   "source": [
    "men=driver.find_element(By.XPATH,'//a[text()=\"Men\"]')\n",
    "time.sleep(3)\n",
    "actions=ActionChains(driver)"
   ]
  },
  {
   "cell_type": "code",
   "execution_count": 17,
   "id": "9f3501f0-f188-4b2e-ab78-3b3a4dca77dc",
   "metadata": {
    "scrolled": true
   },
   "outputs": [],
   "source": [
    "actions.move_to_element(men).perform()"
   ]
  },
  {
   "cell_type": "code",
   "execution_count": 22,
   "id": "445a321c-276b-4306-b47f-7689bea289bd",
   "metadata": {
    "scrolled": true
   },
   "outputs": [
    {
     "ename": "StaleElementReferenceException",
     "evalue": "Message: stale element reference: stale element not found\n  (Session info: chrome=120.0.6099.71); For documentation on this error, please visit: https://www.selenium.dev/documentation/webdriver/troubleshooting/errors#stale-element-reference-exception\nStacktrace:\n\tGetHandleVerifier [0x00007FF782124D02+56194]\n\t(No symbol) [0x00007FF7820904B2]\n\t(No symbol) [0x00007FF781F376AA]\n\t(No symbol) [0x00007FF781F479BF]\n\t(No symbol) [0x00007FF781F3DB89]\n\t(No symbol) [0x00007FF781F3BF22]\n\t(No symbol) [0x00007FF781F3F38F]\n\t(No symbol) [0x00007FF781F3F480]\n\t(No symbol) [0x00007FF781F87B83]\n\t(No symbol) [0x00007FF781F870F6]\n\t(No symbol) [0x00007FF781FCBF70]\n\t(No symbol) [0x00007FF781FA5E7A]\n\t(No symbol) [0x00007FF781FC2786]\n\t(No symbol) [0x00007FF781FA5C23]\n\t(No symbol) [0x00007FF781F74A45]\n\t(No symbol) [0x00007FF781F75AD4]\n\tGetHandleVerifier [0x00007FF78249D5BB+3695675]\n\tGetHandleVerifier [0x00007FF7824F6197+4059159]\n\tGetHandleVerifier [0x00007FF7824EDF63+4025827]\n\tGetHandleVerifier [0x00007FF7821BF029+687785]\n\t(No symbol) [0x00007FF78209B508]\n\t(No symbol) [0x00007FF782097564]\n\t(No symbol) [0x00007FF7820976E9]\n\t(No symbol) [0x00007FF782088094]\n\tBaseThreadInitThunk [0x00007FFC22FB7344+20]\n\tRtlUserThreadStart [0x00007FFC237226B1+33]\n",
     "output_type": "error",
     "traceback": [
      "\u001b[1;31m---------------------------------------------------------------------------\u001b[0m",
      "\u001b[1;31mStaleElementReferenceException\u001b[0m            Traceback (most recent call last)",
      "Cell \u001b[1;32mIn[22], line 7\u001b[0m\n\u001b[0;32m      3\u001b[0m ul \u001b[38;5;241m=\u001b[39m li\u001b[38;5;241m.\u001b[39mfind_elements(By\u001b[38;5;241m.\u001b[39mTAG_NAME, \u001b[38;5;124m'\u001b[39m\u001b[38;5;124mli\u001b[39m\u001b[38;5;124m'\u001b[39m)\n\u001b[0;32m      4\u001b[0m ul\n\u001b[1;32m----> 7\u001b[0m \u001b[43mactions\u001b[49m\u001b[38;5;241;43m.\u001b[39;49m\u001b[43mmove_to_element\u001b[49m\u001b[43m(\u001b[49m\u001b[43mviewall\u001b[49m\u001b[43m)\u001b[49m\u001b[38;5;241;43m.\u001b[39;49m\u001b[43mperform\u001b[49m\u001b[43m(\u001b[49m\u001b[43m)\u001b[49m\n",
      "File \u001b[1;32m~\\AppData\\Local\\Programs\\Python\\Python311\\Lib\\site-packages\\selenium\\webdriver\\common\\action_chains.py:94\u001b[0m, in \u001b[0;36mActionChains.perform\u001b[1;34m(self)\u001b[0m\n\u001b[0;32m     92\u001b[0m \u001b[38;5;28;01mdef\u001b[39;00m \u001b[38;5;21mperform\u001b[39m(\u001b[38;5;28mself\u001b[39m) \u001b[38;5;241m-\u001b[39m\u001b[38;5;241m>\u001b[39m \u001b[38;5;28;01mNone\u001b[39;00m:\n\u001b[0;32m     93\u001b[0m \u001b[38;5;250m    \u001b[39m\u001b[38;5;124;03m\"\"\"Performs all stored actions.\"\"\"\u001b[39;00m\n\u001b[1;32m---> 94\u001b[0m     \u001b[38;5;28;43mself\u001b[39;49m\u001b[38;5;241;43m.\u001b[39;49m\u001b[43mw3c_actions\u001b[49m\u001b[38;5;241;43m.\u001b[39;49m\u001b[43mperform\u001b[49m\u001b[43m(\u001b[49m\u001b[43m)\u001b[49m\n",
      "File \u001b[1;32m~\\AppData\\Local\\Programs\\Python\\Python311\\Lib\\site-packages\\selenium\\webdriver\\common\\actions\\action_builder.py:96\u001b[0m, in \u001b[0;36mActionBuilder.perform\u001b[1;34m(self)\u001b[0m\n\u001b[0;32m     94\u001b[0m         enc[\u001b[38;5;124m\"\u001b[39m\u001b[38;5;124mactions\u001b[39m\u001b[38;5;124m\"\u001b[39m]\u001b[38;5;241m.\u001b[39mappend(encoded)\n\u001b[0;32m     95\u001b[0m         device\u001b[38;5;241m.\u001b[39mactions \u001b[38;5;241m=\u001b[39m []\n\u001b[1;32m---> 96\u001b[0m \u001b[38;5;28;43mself\u001b[39;49m\u001b[38;5;241;43m.\u001b[39;49m\u001b[43mdriver\u001b[49m\u001b[38;5;241;43m.\u001b[39;49m\u001b[43mexecute\u001b[49m\u001b[43m(\u001b[49m\u001b[43mCommand\u001b[49m\u001b[38;5;241;43m.\u001b[39;49m\u001b[43mW3C_ACTIONS\u001b[49m\u001b[43m,\u001b[49m\u001b[43m \u001b[49m\u001b[43menc\u001b[49m\u001b[43m)\u001b[49m\n",
      "File \u001b[1;32m~\\AppData\\Local\\Programs\\Python\\Python311\\Lib\\site-packages\\selenium\\webdriver\\remote\\webdriver.py:344\u001b[0m, in \u001b[0;36mWebDriver.execute\u001b[1;34m(self, driver_command, params)\u001b[0m\n\u001b[0;32m    342\u001b[0m response \u001b[38;5;241m=\u001b[39m \u001b[38;5;28mself\u001b[39m\u001b[38;5;241m.\u001b[39mcommand_executor\u001b[38;5;241m.\u001b[39mexecute(driver_command, params)\n\u001b[0;32m    343\u001b[0m \u001b[38;5;28;01mif\u001b[39;00m response:\n\u001b[1;32m--> 344\u001b[0m     \u001b[38;5;28;43mself\u001b[39;49m\u001b[38;5;241;43m.\u001b[39;49m\u001b[43merror_handler\u001b[49m\u001b[38;5;241;43m.\u001b[39;49m\u001b[43mcheck_response\u001b[49m\u001b[43m(\u001b[49m\u001b[43mresponse\u001b[49m\u001b[43m)\u001b[49m\n\u001b[0;32m    345\u001b[0m     response[\u001b[38;5;124m\"\u001b[39m\u001b[38;5;124mvalue\u001b[39m\u001b[38;5;124m\"\u001b[39m] \u001b[38;5;241m=\u001b[39m \u001b[38;5;28mself\u001b[39m\u001b[38;5;241m.\u001b[39m_unwrap_value(response\u001b[38;5;241m.\u001b[39mget(\u001b[38;5;124m\"\u001b[39m\u001b[38;5;124mvalue\u001b[39m\u001b[38;5;124m\"\u001b[39m, \u001b[38;5;28;01mNone\u001b[39;00m))\n\u001b[0;32m    346\u001b[0m     \u001b[38;5;28;01mreturn\u001b[39;00m response\n",
      "File \u001b[1;32m~\\AppData\\Local\\Programs\\Python\\Python311\\Lib\\site-packages\\selenium\\webdriver\\remote\\errorhandler.py:229\u001b[0m, in \u001b[0;36mErrorHandler.check_response\u001b[1;34m(self, response)\u001b[0m\n\u001b[0;32m    227\u001b[0m         alert_text \u001b[38;5;241m=\u001b[39m value[\u001b[38;5;124m\"\u001b[39m\u001b[38;5;124malert\u001b[39m\u001b[38;5;124m\"\u001b[39m]\u001b[38;5;241m.\u001b[39mget(\u001b[38;5;124m\"\u001b[39m\u001b[38;5;124mtext\u001b[39m\u001b[38;5;124m\"\u001b[39m)\n\u001b[0;32m    228\u001b[0m     \u001b[38;5;28;01mraise\u001b[39;00m exception_class(message, screen, stacktrace, alert_text)  \u001b[38;5;66;03m# type: ignore[call-arg]  # mypy is not smart enough here\u001b[39;00m\n\u001b[1;32m--> 229\u001b[0m \u001b[38;5;28;01mraise\u001b[39;00m exception_class(message, screen, stacktrace)\n",
      "\u001b[1;31mStaleElementReferenceException\u001b[0m: Message: stale element reference: stale element not found\n  (Session info: chrome=120.0.6099.71); For documentation on this error, please visit: https://www.selenium.dev/documentation/webdriver/troubleshooting/errors#stale-element-reference-exception\nStacktrace:\n\tGetHandleVerifier [0x00007FF782124D02+56194]\n\t(No symbol) [0x00007FF7820904B2]\n\t(No symbol) [0x00007FF781F376AA]\n\t(No symbol) [0x00007FF781F479BF]\n\t(No symbol) [0x00007FF781F3DB89]\n\t(No symbol) [0x00007FF781F3BF22]\n\t(No symbol) [0x00007FF781F3F38F]\n\t(No symbol) [0x00007FF781F3F480]\n\t(No symbol) [0x00007FF781F87B83]\n\t(No symbol) [0x00007FF781F870F6]\n\t(No symbol) [0x00007FF781FCBF70]\n\t(No symbol) [0x00007FF781FA5E7A]\n\t(No symbol) [0x00007FF781FC2786]\n\t(No symbol) [0x00007FF781FA5C23]\n\t(No symbol) [0x00007FF781F74A45]\n\t(No symbol) [0x00007FF781F75AD4]\n\tGetHandleVerifier [0x00007FF78249D5BB+3695675]\n\tGetHandleVerifier [0x00007FF7824F6197+4059159]\n\tGetHandleVerifier [0x00007FF7824EDF63+4025827]\n\tGetHandleVerifier [0x00007FF7821BF029+687785]\n\t(No symbol) [0x00007FF78209B508]\n\t(No symbol) [0x00007FF782097564]\n\t(No symbol) [0x00007FF7820976E9]\n\t(No symbol) [0x00007FF782088094]\n\tBaseThreadInitThunk [0x00007FFC22FB7344+20]\n\tRtlUserThreadStart [0x00007FFC237226B1+33]\n"
     ]
    }
   ],
   "source": [
    "time.sleep(1)\n",
    "li=driver.find_element(By.XPATH,'//span[text()=\"View All\"]')\n",
    "actions.move_to_element(viewall).perform()"
   ]
  },
  {
   "cell_type": "code",
   "execution_count": null,
   "id": "a03b1594-225e-4fca-aa71-340e5ee0379c",
   "metadata": {
    "scrolled": true
   },
   "outputs": [],
   "source": [
    "viewall.click()\n",
    "time.sleep(1)\n",
    "viewall.click()"
   ]
  },
  {
   "cell_type": "code",
   "execution_count": null,
   "id": "c1537dc0-5d69-4fdc-ba9e-0dd81ed0c89b",
   "metadata": {
    "scrolled": true
   },
   "outputs": [],
   "source": [
    "i=1\n",
    "while(i<88):\n",
    "    i += 1\n",
    "    try:\n",
    "        time.sleep(1)\n",
    "        load_more_button = WebDriverWait(driver, 5, poll_frequency=2).until(EC.presence_of_element_located((By.XPATH, '//button[@class=\"button js-load-more \"]')))\n",
    "        driver.execute_script(\"arguments[0].scrollIntoView({behavior: 'auto', block: 'center'});\", load_more_button)\n",
    "        load_more_button.click()\n",
    "        time.sleep(5)\n",
    "    except NoSuchElementException as e:\n",
    "        print(\"No Such Element Exception:\", e)\n",
    "    except Exception as e:\n",
    "        print(\"Error:\", e)"
   ]
  },
  {
   "cell_type": "code",
   "execution_count": null,
   "id": "c20634b9-f98e-42fc-bbb6-129e8f4761d5",
   "metadata": {
    "scrolled": true
   },
   "outputs": [],
   "source": [
    "ul = driver.find_element(By.XPATH, '//*[@id=\"page-content\"]/div/div[2]/ul')"
   ]
  },
  {
   "cell_type": "code",
   "execution_count": null,
   "id": "e5ccf3b2-2607-40fa-81c9-b1d97e58c2b9",
   "metadata": {
    "scrolled": true
   },
   "outputs": [],
   "source": [
    "chunk = ul.text\n",
    "chunk"
   ]
  },
  {
   "cell_type": "code",
   "execution_count": null,
   "id": "eb943c76-36ff-4b8a-b4de-571370b051bf",
   "metadata": {
    "scrolled": true
   },
   "outputs": [],
   "source": [
    "products = []\n",
    "pattern = r\"(?=.*\\bfavourite\\b)\"\n",
    "# Splitting the text using a regex pattern\n",
    "articles = re.split(pattern, chunk, flags=re.IGNORECASE)"
   ]
  },
  {
   "cell_type": "code",
   "execution_count": null,
   "id": "c141458e-1b80-487d-a00c-11be44ccf435",
   "metadata": {
    "scrolled": true
   },
   "outputs": [],
   "source": [
    "for article in articles:\n",
    "    if len(article)>2:\n",
    "        boxes=[]\n",
    "        for entry in article.split('\\n'):\n",
    "            boxes.append(entry)\n",
    "        products.append([boxes[1],boxes[2]])"
   ]
  },
  {
   "cell_type": "code",
   "execution_count": null,
   "id": "616893d7-9145-4a48-8685-fb75e130ae23",
   "metadata": {},
   "outputs": [],
   "source": [
    "len(products)"
   ]
  },
  {
   "cell_type": "code",
   "execution_count": null,
   "id": "570c96cc-9674-4db6-9c21-90687420edd2",
   "metadata": {},
   "outputs": [],
   "source": []
  },
  {
   "cell_type": "code",
   "execution_count": null,
   "id": "5a1bb110-82b5-4e76-aa53-aadaa10bbd31",
   "metadata": {},
   "outputs": [],
   "source": []
  },
  {
   "cell_type": "code",
   "execution_count": null,
   "id": "1b3341de-fa6d-4a2a-ba34-dcc99bd3a2f1",
   "metadata": {
    "scrolled": true
   },
   "outputs": [],
   "source": [
    "for color in colors:\n",
    "    print(color)"
   ]
  },
  {
   "cell_type": "code",
   "execution_count": null,
   "id": "e572485a-beb0-4ed2-981c-96107754ea9d",
   "metadata": {},
   "outputs": [],
   "source": [
    "import pandas as pd"
   ]
  },
  {
   "cell_type": "code",
   "execution_count": null,
   "id": "31a5cdca-6d1f-4257-9a44-9a6162a24ce3",
   "metadata": {},
   "outputs": [],
   "source": [
    "df = pd.DataFrame(articles, columns=['Title','Price','Color'])"
   ]
  },
  {
   "cell_type": "code",
   "execution_count": null,
   "id": "c9782b96-651e-4233-aa6b-3e3b85c39ce5",
   "metadata": {},
   "outputs": [],
   "source": [
    "df = df.assign(var1=df.Color.str.split('\\')).explode('Color').reset_index(drop=True)"
   ]
  },
  {
   "cell_type": "code",
   "execution_count": null,
   "id": "034172ad-7cbf-4563-a1ed-6be3f292fcd8",
   "metadata": {},
   "outputs": [],
   "source": [
    "df.drop_duplicates()"
   ]
  }
 ],
 "metadata": {
  "kernelspec": {
   "display_name": "My Virtual Environment",
   "language": "python",
   "name": "myenv"
  },
  "language_info": {
   "codemirror_mode": {
    "name": "ipython",
    "version": 3
   },
   "file_extension": ".py",
   "mimetype": "text/x-python",
   "name": "python",
   "nbconvert_exporter": "python",
   "pygments_lexer": "ipython3",
   "version": "3.11.3"
  }
 },
 "nbformat": 4,
 "nbformat_minor": 5
}
