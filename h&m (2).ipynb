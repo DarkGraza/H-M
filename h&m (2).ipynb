{
 "cells": [
  {
   "cell_type": "code",
   "execution_count": null,
   "id": "247e8f54-07d1-4363-8b06-ceeb3522da3a",
   "metadata": {},
   "outputs": [],
   "source": [
    "import time\n",
    "import re\n",
    "import pandas as pd\n",
    "from selenium import webdriver\n",
    "from selenium.webdriver.common.by import By\n",
    "from selenium.webdriver.support.ui import WebDriverWait\n",
    "from selenium.webdriver.support import expected_conditions as EC\n",
    "from selenium.common.exceptions import NoSuchElementException\n",
    "from selenium.webdriver.common.action_chains import ActionChains"
   ]
  },
  {
   "cell_type": "code",
   "execution_count": null,
   "id": "27367c6c-0754-40ee-8a7a-4dc84e691681",
   "metadata": {},
   "outputs": [],
   "source": [
    "driver = webdriver.Chrome()"
   ]
  },
  {
   "cell_type": "code",
   "execution_count": null,
   "id": "58816779-cffd-46a5-acc5-e8dc2fd941df",
   "metadata": {
    "scrolled": true
   },
   "outputs": [],
   "source": [
    "url = 'https://www2.hm.com/'\n",
    "driver.get(url)"
   ]
  },
  {
   "cell_type": "code",
   "execution_count": null,
   "id": "8e66b57a-dd2c-4045-affa-e2e5d0fbc832",
   "metadata": {
    "scrolled": true
   },
   "outputs": [],
   "source": [
    "cookies = driver.find_element(By.XPATH, '//*[@id=\"onetrust-reject-all-handler\"]')\n",
    "cookies.click()"
   ]
  },
  {
   "cell_type": "code",
   "execution_count": null,
   "id": "6a8d65d4-b772-43aa-9fc9-2a5ea0dc1601",
   "metadata": {},
   "outputs": [],
   "source": [
    "men=driver.find_element(By.XPATH,'//a[text()=\"Men\"]')\n",
    "time.sleep(3)\n",
    "actions=ActionChains(driver)"
   ]
  },
  {
   "cell_type": "code",
   "execution_count": null,
   "id": "9f3501f0-f188-4b2e-ab78-3b3a4dca77dc",
   "metadata": {
    "scrolled": true
   },
   "outputs": [],
   "source": [
    "actions.move_to_element(men).perform()"
   ]
  },
  {
   "cell_type": "code",
   "execution_count": null,
   "id": "445a321c-276b-4306-b47f-7689bea289bd",
   "metadata": {
    "scrolled": true
   },
   "outputs": [],
   "source": [
    "time.sleep(1)\n",
    "li=driver.find_element(By.XPATH,'//span[text()=\"View All\"]')\n",
    "actions.move_to_element(viewall).perform()"
   ]
  },
  {
   "cell_type": "code",
   "execution_count": null,
   "id": "a03b1594-225e-4fca-aa71-340e5ee0379c",
   "metadata": {
    "scrolled": true
   },
   "outputs": [],
   "source": [
    "viewall.click()"
   ]
  },
  {
   "cell_type": "code",
   "execution_count": null,
   "id": "c1537dc0-5d69-4fdc-ba9e-0dd81ed0c89b",
   "metadata": {
    "scrolled": true
   },
   "outputs": [],
   "source": [
    "i=1\n",
    "while(i<88):\n",
    "    i += 1\n",
    "    try:\n",
    "        time.sleep(1)\n",
    "        load_more_button = WebDriverWait(driver, 5, poll_frequency=2).until(EC.presence_of_element_located((By.XPATH, '//button[@class=\"button js-load-more \"]')))\n",
    "        driver.execute_script(\"arguments[0].scrollIntoView({behavior: 'auto', block: 'center'});\", load_more_button)\n",
    "        load_more_button.click()\n",
    "        time.sleep(5)\n",
    "    except NoSuchElementException as e:\n",
    "        print(\"No Such Element Exception:\", e)\n",
    "    except Exception as e:\n",
    "        print(\"Error:\", e)"
   ]
  },
  {
   "cell_type": "code",
   "execution_count": null,
   "id": "c20634b9-f98e-42fc-bbb6-129e8f4761d5",
   "metadata": {
    "scrolled": true
   },
   "outputs": [],
   "source": [
    "ul = driver.find_element(By.XPATH, '//*[@id=\"page-content\"]/div/div[2]/ul')"
   ]
  },
  {
   "cell_type": "code",
   "execution_count": null,
   "id": "e5ccf3b2-2607-40fa-81c9-b1d97e58c2b9",
   "metadata": {
    "scrolled": true
   },
   "outputs": [],
   "source": [
    "chunk = ul.text\n",
    "chunk"
   ]
  },
  {
   "cell_type": "code",
   "execution_count": null,
   "id": "eb943c76-36ff-4b8a-b4de-571370b051bf",
   "metadata": {
    "scrolled": true
   },
   "outputs": [],
   "source": [
    "products = []\n",
    "pattern = r\"(?=.*\\bfavourite\\b)\"\n",
    "# Splitting the text using a regex pattern\n",
    "articles = re.split(pattern, chunk, flags=re.IGNORECASE)"
   ]
  },
  {
   "cell_type": "code",
   "execution_count": null,
   "id": "c141458e-1b80-487d-a00c-11be44ccf435",
   "metadata": {
    "scrolled": true
   },
   "outputs": [],
   "source": [
    "for article in articles:\n",
    "    if len(article)>2:\n",
    "        boxes=[]\n",
    "        for entry in article.split('\\n'):\n",
    "            boxes.append(entry)\n",
    "        products.append([boxes[1],boxes[2]])"
   ]
  },
  {
   "cell_type": "code",
   "execution_count": null,
   "id": "616893d7-9145-4a48-8685-fb75e130ae23",
   "metadata": {},
   "outputs": [],
   "source": [
    "len(products)"
   ]
  },
  {
   "cell_type": "code",
   "execution_count": null,
   "id": "1b3341de-fa6d-4a2a-ba34-dcc99bd3a2f1",
   "metadata": {
    "scrolled": true
   },
   "outputs": [],
   "source": [
    "for color in colors:\n",
    "    print(color)"
   ]
  },
  {
   "cell_type": "code",
   "execution_count": null,
   "id": "e572485a-beb0-4ed2-981c-96107754ea9d",
   "metadata": {},
   "outputs": [],
   "source": [
    "import pandas as pd"
   ]
  },
  {
   "cell_type": "code",
   "execution_count": null,
   "id": "31a5cdca-6d1f-4257-9a44-9a6162a24ce3",
   "metadata": {},
   "outputs": [],
   "source": [
    "df = pd.DataFrame(articles, columns=['Title','Price','Color'])"
   ]
  },
  {
   "cell_type": "code",
   "execution_count": null,
   "id": "c9782b96-651e-4233-aa6b-3e3b85c39ce5",
   "metadata": {},
   "outputs": [],
   "source": [
    "df = df.assign(var1=df.Color.str.split('\\')).explode('Color').reset_index(drop=True)"
   ]
  },
  {
   "cell_type": "code",
   "execution_count": null,
   "id": "034172ad-7cbf-4563-a1ed-6be3f292fcd8",
   "metadata": {},
   "outputs": [],
   "source": [
    "df.drop_duplicates()"
   ]
  }
 ],
 "metadata": {
  "kernelspec": {
   "display_name": "My Virtual Environment",
   "language": "python",
   "name": "myenv"
  },
  "language_info": {
   "codemirror_mode": {
    "name": "ipython",
    "version": 3
   },
   "file_extension": ".py",
   "mimetype": "text/x-python",
   "name": "python",
   "nbconvert_exporter": "python",
   "pygments_lexer": "ipython3",
   "version": "3.11.3"
  }
 },
 "nbformat": 4,
 "nbformat_minor": 5
}
